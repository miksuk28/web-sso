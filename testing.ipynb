{
 "cells": [
  {
   "cell_type": "code",
   "execution_count": null,
   "metadata": {},
   "outputs": [],
   "source": [
    "from config import config\n",
    "from secret_config import secrets\n",
    "from db import UsersDatabaseWrapper\n",
    "\n",
    "db = UsersDatabaseWrapper(\n",
    "    token_validity=config[\"token_validity\"],\n",
    "    username=secrets[\"pg_db_user\"],\n",
    "    password=secrets[\"pg_db_user_password\"],\n",
    "    address=secrets[\"pg_ip\"],\n",
    "    database=secrets[\"pg_db\"],\n",
    "    secret_key=secrets[\"SECRET_KEY\"],\n",
    "    global_token_block=config[\"global_token_block\"]\n",
    ")"
   ]
  },
  {
   "cell_type": "code",
   "execution_count": null,
   "metadata": {},
   "outputs": [],
   "source": [
    "cur = db._db.cursor()\n",
    "cur.execute(\"SELECT username FROM users;\")\n",
    "print(cur.fetchall())"
   ]
  },
  {
   "cell_type": "code",
   "execution_count": null,
   "metadata": {},
   "outputs": [],
   "source": [
    "db.create_user(username=\"test3\", password=\"1234\")"
   ]
  },
  {
   "cell_type": "code",
   "execution_count": null,
   "metadata": {},
   "outputs": [],
   "source": [
    "db.login(username=\"test3\", password=\"1234\")"
   ]
  },
  {
   "cell_type": "code",
   "execution_count": null,
   "metadata": {},
   "outputs": [],
   "source": [
    "db._hash_password(\"quad\", b\"abcd\")"
   ]
  },
  {
   "cell_type": "code",
   "execution_count": null,
   "metadata": {},
   "outputs": [],
   "source": [
    "import hashlib\n",
    "\n",
    "hashed = hashlib.pbkdf2_hmac(\n",
    "    \"sha256\",\n",
    "    \"quad\".encode(\"utf-8\"),\n",
    "    b\"1234\",\n",
    "    100000\n",
    ")\n",
    "\n",
    "print(hashed)\n",
    "\n",
    "hashed == bytes(\"\\x73c8e7c25de54ddf34b9310ee74db330b7f5865498be156cb3a168d89348576e\", \"utf-8\")"
   ]
  },
  {
   "cell_type": "code",
   "execution_count": null,
   "metadata": {},
   "outputs": [],
   "source": [
    "\"\\x73c8e7c25de54ddf34b9310ee74db330b7f5865498be156cb3a168d89348576e\".encode(\"utf-8\")"
   ]
  }
 ],
 "metadata": {
  "interpreter": {
   "hash": "916dbcbb3f70747c44a77c7bcd40155683ae19c65e1c03b4aa3499c5328201f1"
  },
  "kernelspec": {
   "display_name": "Python 3.9.7 64-bit",
   "language": "python",
   "name": "python3"
  },
  "language_info": {
   "codemirror_mode": {
    "name": "ipython",
    "version": 3
   },
   "file_extension": ".py",
   "mimetype": "text/x-python",
   "name": "python",
   "nbconvert_exporter": "python",
   "pygments_lexer": "ipython3",
   "version": "3.9.7"
  },
  "orig_nbformat": 4
 },
 "nbformat": 4,
 "nbformat_minor": 2
}
