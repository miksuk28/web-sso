{
 "cells": [
  {
   "cell_type": "code",
   "execution_count": 1,
   "metadata": {},
   "outputs": [],
   "source": [
    "from config import config\n",
    "from secret_config import secrets\n",
    "from db import UsersDatabaseWrapper\n",
    "\n",
    "db = UsersDatabaseWrapper(\n",
    "    token_validity=config[\"token_validity\"],\n",
    "    username=secrets[\"pg_db_user\"],\n",
    "    password=secrets[\"pg_db_user_password\"],\n",
    "    address=secrets[\"pg_ip\"],\n",
    "    database=secrets[\"pg_db\"],\n",
    "    secret_key=secrets[\"SECRET_KEY\"],\n",
    "    global_token_block=config[\"global_token_block\"]\n",
    ")"
   ]
  },
  {
   "cell_type": "code",
   "execution_count": null,
   "metadata": {},
   "outputs": [],
   "source": [
    "cur = db._db.cursor()\n",
    "cur.execute(\"SELECT username FROM users;\")\n",
    "print(cur.fetchall())"
   ]
  },
  {
   "cell_type": "code",
   "execution_count": null,
   "metadata": {},
   "outputs": [],
   "source": [
    "db.create_user(username=\"test5\", password=\"1234\")"
   ]
  },
  {
   "cell_type": "code",
   "execution_count": null,
   "metadata": {},
   "outputs": [],
   "source": [
    "db.login(username=\"test5\", password=\"1234\")"
   ]
  },
  {
   "cell_type": "code",
   "execution_count": null,
   "metadata": {},
   "outputs": [],
   "source": [
    "db._hash_password(\"quad\", b\"abcd\")"
   ]
  },
  {
   "cell_type": "code",
   "execution_count": 3,
   "metadata": {},
   "outputs": [
    {
     "data": {
      "text/plain": [
       "{'user_id': 3,\n",
       " 'username': 'miksuk28',\n",
       " 'fname': 'Mikhail',\n",
       " 'lname': 'Sukhanik',\n",
       " 'created_on': datetime.datetime(2022, 3, 29, 16, 59, 42, 5931),\n",
       " 'block_login': False,\n",
       " 'block_login_reason': None}"
      ]
     },
     "execution_count": 3,
     "metadata": {},
     "output_type": "execute_result"
    }
   ],
   "source": [
    "dict(db.get_user(\"miksuk28\"))"
   ]
  }
 ],
 "metadata": {
  "interpreter": {
   "hash": "916dbcbb3f70747c44a77c7bcd40155683ae19c65e1c03b4aa3499c5328201f1"
  },
  "kernelspec": {
   "display_name": "Python 3.9.7 64-bit",
   "language": "python",
   "name": "python3"
  },
  "language_info": {
   "codemirror_mode": {
    "name": "ipython",
    "version": 3
   },
   "file_extension": ".py",
   "mimetype": "text/x-python",
   "name": "python",
   "nbconvert_exporter": "python",
   "pygments_lexer": "ipython3",
   "version": "3.9.7"
  },
  "orig_nbformat": 4
 },
 "nbformat": 4,
 "nbformat_minor": 2
}
