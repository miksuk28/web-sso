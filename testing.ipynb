{
 "cells": [
  {
   "cell_type": "code",
   "execution_count": 8,
   "metadata": {},
   "outputs": [],
   "source": [
    "from config import config\n",
    "from secret_config import secrets\n",
    "from db import UsersDatabaseWrapper\n",
    "\n",
    "db = UsersDatabaseWrapper(\n",
    "    token_validity=config[\"token_validity\"],\n",
    "    username=secrets[\"pg_db_user\"],\n",
    "    password=secrets[\"pg_db_user_password\"],\n",
    "    address=secrets[\"pg_ip\"],\n",
    "    database=secrets[\"pg_db\"],\n",
    "    secret_key=secrets[\"SECRET_KEY\"],\n",
    "    global_token_block=config[\"global_token_block\"]\n",
    ")"
   ]
  },
  {
   "cell_type": "code",
   "execution_count": 9,
   "metadata": {},
   "outputs": [
    {
     "name": "stdout",
     "output_type": "stream",
     "text": [
      "[['chungus'], ['miksuk28'], ['andrew03'], ['amogus'], ['darkion03'], ['happyboye'], ['testuser'], ['quad'], ['tes'], ['gaming']]\n"
     ]
    }
   ],
   "source": [
    "cur = db._db.cursor()\n",
    "cur.execute(\"SELECT username FROM users;\")\n",
    "print(cur.fetchall())"
   ]
  },
  {
   "cell_type": "code",
   "execution_count": 10,
   "metadata": {},
   "outputs": [
    {
     "ename": "UserAlreadyExists",
     "evalue": "gaming",
     "output_type": "error",
     "traceback": [
      "\u001b[0;31m---------------------------------------------------------------------------\u001b[0m",
      "\u001b[0;31mUserAlreadyExists\u001b[0m                         Traceback (most recent call last)",
      "\u001b[1;32m/home/mikhail/Programming/Python/web-sso/testing.ipynb Cell 3'\u001b[0m in \u001b[0;36m<cell line: 1>\u001b[0;34m()\u001b[0m\n\u001b[0;32m----> <a href='vscode-notebook-cell:/home/mikhail/Programming/Python/web-sso/testing.ipynb#ch0000004?line=0'>1</a>\u001b[0m db\u001b[39m.\u001b[39;49mcreate_user(\u001b[39m\"\u001b[39;49m\u001b[39mgaming\u001b[39;49m\u001b[39m\"\u001b[39;49m, \u001b[39m\"\u001b[39;49m\u001b[39mAMOGUS\u001b[39;49m\u001b[39m\"\u001b[39;49m)\n",
      "File \u001b[0;32m~/Programming/Python/web-sso/db.py:226\u001b[0m, in \u001b[0;36mUsersDatabaseWrapper.create_user\u001b[0;34m(self, username, password, fname, lname, block_login, block_login_reason, admin, admin_granter)\u001b[0m\n\u001b[1;32m    <a href='file:///home/mikhail/Programming/Python/web-sso/db.py?line=223'>224</a>\u001b[0m \u001b[39mdef\u001b[39;00m \u001b[39mcreate_user\u001b[39m(\u001b[39mself\u001b[39m, username, password, fname\u001b[39m=\u001b[39m\u001b[39mNone\u001b[39;00m, lname\u001b[39m=\u001b[39m\u001b[39mNone\u001b[39;00m, block_login\u001b[39m=\u001b[39m\u001b[39mFalse\u001b[39;00m, block_login_reason\u001b[39m=\u001b[39m\u001b[39mFalse\u001b[39;00m, admin\u001b[39m=\u001b[39m\u001b[39mFalse\u001b[39;00m, admin_granter\u001b[39m=\u001b[39m\u001b[39mNone\u001b[39;00m):\n\u001b[1;32m    <a href='file:///home/mikhail/Programming/Python/web-sso/db.py?line=224'>225</a>\u001b[0m     \u001b[39mif\u001b[39;00m \u001b[39mself\u001b[39m\u001b[39m.\u001b[39m_check_if_user_exists(username):\n\u001b[0;32m--> <a href='file:///home/mikhail/Programming/Python/web-sso/db.py?line=225'>226</a>\u001b[0m         \u001b[39mraise\u001b[39;00m exc\u001b[39m.\u001b[39mUserAlreadyExists(username)\n\u001b[1;32m    <a href='file:///home/mikhail/Programming/Python/web-sso/db.py?line=227'>228</a>\u001b[0m     salt \u001b[39m=\u001b[39m gensalt()\n\u001b[1;32m    <a href='file:///home/mikhail/Programming/Python/web-sso/db.py?line=228'>229</a>\u001b[0m     hashed_pass \u001b[39m=\u001b[39m \u001b[39mself\u001b[39m\u001b[39m.\u001b[39m_hash_password(password, salt)\n",
      "\u001b[0;31mUserAlreadyExists\u001b[0m: gaming"
     ]
    }
   ],
   "source": [
    "db.create_user(\"gaming\", \"AMOGUS\")"
   ]
  },
  {
   "cell_type": "code",
   "execution_count": null,
   "metadata": {},
   "outputs": [],
   "source": [
    "db.login(username=\"quad\", password=\"abcd\")"
   ]
  },
  {
   "cell_type": "code",
   "execution_count": 11,
   "metadata": {},
   "outputs": [
    {
     "name": "stdout",
     "output_type": "stream",
     "text": [
      "abcd b'test'\n"
     ]
    },
    {
     "data": {
      "text/plain": [
       "bytes"
      ]
     },
     "execution_count": 11,
     "metadata": {},
     "output_type": "execute_result"
    }
   ],
   "source": [
    "type(db._hash_password(\"abcd\", b\"test\"))"
   ]
  },
  {
   "cell_type": "code",
   "execution_count": 12,
   "metadata": {},
   "outputs": [],
   "source": [
    "import hashlib\n",
    "\n",
    "hashed = hashlib.pbkdf2_hmac(\n",
    "    \"sha256\",\n",
    "    \"abcd\".encode(\"utf-8\"),\n",
    "    b\"1234\",\n",
    "    100000\n",
    ")\n",
    "\n",
    "print(hashed)"
   ]
  }
 ],
 "metadata": {
  "interpreter": {
   "hash": "916dbcbb3f70747c44a77c7bcd40155683ae19c65e1c03b4aa3499c5328201f1"
  },
  "kernelspec": {
   "display_name": "Python 3.9.7 64-bit",
   "language": "python",
   "name": "python3"
  },
  "language_info": {
   "codemirror_mode": {
    "name": "ipython",
    "version": 3
   },
   "file_extension": ".py",
   "mimetype": "text/x-python",
   "name": "python",
   "nbconvert_exporter": "python",
   "pygments_lexer": "ipython3",
   "version": "3.9.7"
  },
  "orig_nbformat": 4
 },
 "nbformat": 4,
 "nbformat_minor": 2
}
